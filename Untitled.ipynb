{
 "cells": [
  {
   "cell_type": "code",
   "execution_count": 1,
   "metadata": {},
   "outputs": [],
   "source": [
    "# !pip install -q tfds-nightly tensorflow matplotlib"
   ]
  },
  {
   "cell_type": "code",
   "execution_count": 23,
   "metadata": {},
   "outputs": [],
   "source": [
    "import matplotlib.pyplot as plt\n",
    "import numpy as np\n",
    "import tensorflow as tf\n",
    "import pandas as pd\n",
    "\n"
   ]
  },
  {
   "cell_type": "code",
   "execution_count": 3,
   "metadata": {},
   "outputs": [],
   "source": [
    "# !pip install tensorflow-datasets"
   ]
  },
  {
   "cell_type": "code",
   "execution_count": 4,
   "metadata": {},
   "outputs": [],
   "source": [
    "import tensorflow_datasets as tfds"
   ]
  },
  {
   "cell_type": "code",
   "execution_count": 7,
   "metadata": {
    "scrolled": false
   },
   "outputs": [],
   "source": [
    "ds, info = tfds.load('reddit_tifu/long', split='train', with_info=True)"
   ]
  },
  {
   "cell_type": "code",
   "execution_count": 8,
   "metadata": {},
   "outputs": [
    {
     "name": "stdout",
     "output_type": "stream",
     "text": [
      "tfds.core.DatasetInfo(\n",
      "    name='reddit_tifu',\n",
      "    full_name='reddit_tifu/long/1.1.0',\n",
      "    description=\"\"\"\n",
      "    Reddit dataset, where TIFU denotes the name of subbreddit /r/tifu.\n",
      "    As defined in the publication, styel \"short\" uses title as summary and\n",
      "    \"long\" uses tldr as summary.\n",
      "    \n",
      "    Features includes:\n",
      "      - document: post text without tldr.\n",
      "      - tldr: tldr line.\n",
      "      - title: trimmed title without tldr.\n",
      "      - ups: upvotes.\n",
      "      - score: score.\n",
      "      - num_comments: number of comments.\n",
      "      - upvote_ratio: upvote ratio.\n",
      "    \"\"\",\n",
      "    config_description=\"\"\"\n",
      "    Using TLDR as summary.\n",
      "    \"\"\",\n",
      "    homepage='https://github.com/ctr4si/MMN',\n",
      "    data_path='C:\\\\Users\\\\lieuw\\\\tensorflow_datasets\\\\reddit_tifu\\\\long\\\\1.1.0',\n",
      "    download_size=639.54 MiB,\n",
      "    dataset_size=92.38 MiB,\n",
      "    features=FeaturesDict({\n",
      "        'documents': Text(shape=(), dtype=tf.string),\n",
      "        'num_comments': tf.float32,\n",
      "        'score': tf.float32,\n",
      "        'title': Text(shape=(), dtype=tf.string),\n",
      "        'tldr': Text(shape=(), dtype=tf.string),\n",
      "        'ups': tf.float32,\n",
      "        'upvote_ratio': tf.float32,\n",
      "    }),\n",
      "    supervised_keys=('documents', 'tldr'),\n",
      "    disable_shuffling=False,\n",
      "    splits={\n",
      "        'train': <SplitInfo num_examples=42139, num_shards=1>,\n",
      "    },\n",
      "    citation=\"\"\"@misc{kim2018abstractive,\n",
      "        title={Abstractive Summarization of Reddit Posts with Multi-level Memory Networks},\n",
      "        author={Byeongchang Kim and Hyunwoo Kim and Gunhee Kim},\n",
      "        year={2018},\n",
      "        eprint={1811.00783},\n",
      "        archivePrefix={arXiv},\n",
      "        primaryClass={cs.CL}\n",
      "    }\"\"\",\n",
      ")\n"
     ]
    }
   ],
   "source": [
    "print(info)"
   ]
  },
  {
   "cell_type": "code",
   "execution_count": 9,
   "metadata": {},
   "outputs": [
    {
     "data": {
      "text/plain": [
       "FeaturesDict({\n",
       "    'documents': Text(shape=(), dtype=tf.string),\n",
       "    'num_comments': tf.float32,\n",
       "    'score': tf.float32,\n",
       "    'title': Text(shape=(), dtype=tf.string),\n",
       "    'tldr': Text(shape=(), dtype=tf.string),\n",
       "    'ups': tf.float32,\n",
       "    'upvote_ratio': tf.float32,\n",
       "})"
      ]
     },
     "execution_count": 9,
     "metadata": {},
     "output_type": "execute_result"
    }
   ],
   "source": [
    "info.features"
   ]
  },
  {
   "cell_type": "code",
   "execution_count": 10,
   "metadata": {},
   "outputs": [
    {
     "name": "stdout",
     "output_type": "stream",
     "text": [
      "['train']\n"
     ]
    }
   ],
   "source": [
    "print(list(info.splits.keys()))"
   ]
  },
  {
   "cell_type": "code",
   "execution_count": 11,
   "metadata": {},
   "outputs": [],
   "source": [
    "dataframe = tfds.as_dataframe(ds, info)"
   ]
  },
  {
   "cell_type": "code",
   "execution_count": 33,
   "metadata": {},
   "outputs": [
    {
     "data": {
      "text/html": [
       "<div>\n",
       "<style scoped>\n",
       "    .dataframe tbody tr th:only-of-type {\n",
       "        vertical-align: middle;\n",
       "    }\n",
       "\n",
       "    .dataframe tbody tr th {\n",
       "        vertical-align: top;\n",
       "    }\n",
       "\n",
       "    .dataframe thead th {\n",
       "        text-align: right;\n",
       "    }\n",
       "</style>\n",
       "<table border=\"1\" class=\"dataframe\">\n",
       "  <thead>\n",
       "    <tr style=\"text-align: right;\">\n",
       "      <th></th>\n",
       "      <th>documents</th>\n",
       "      <th>num_comments</th>\n",
       "      <th>score</th>\n",
       "      <th>title</th>\n",
       "      <th>tldr</th>\n",
       "      <th>ups</th>\n",
       "      <th>upvote_ratio</th>\n",
       "    </tr>\n",
       "  </thead>\n",
       "  <tbody>\n",
       "    <tr>\n",
       "      <th>0</th>\n",
       "      <td>b\"me and a friend decided to go to the beach l...</td>\n",
       "      <td>1.0</td>\n",
       "      <td>8.0</td>\n",
       "      <td>b'liking seafood'</td>\n",
       "      <td>b'had delicious seafood. almost flooded a toil...</td>\n",
       "      <td>8.0</td>\n",
       "      <td>0.76</td>\n",
       "    </tr>\n",
       "  </tbody>\n",
       "</table>\n",
       "</div>"
      ],
      "text/plain": [
       "                                           documents  num_comments  score  \\\n",
       "0  b\"me and a friend decided to go to the beach l...           1.0    8.0   \n",
       "\n",
       "               title                                               tldr  ups  \\\n",
       "0  b'liking seafood'  b'had delicious seafood. almost flooded a toil...  8.0   \n",
       "\n",
       "   upvote_ratio  \n",
       "0          0.76  "
      ]
     },
     "execution_count": 33,
     "metadata": {},
     "output_type": "execute_result"
    }
   ],
   "source": [
    "dataframe.head(1)"
   ]
  },
  {
   "cell_type": "code",
   "execution_count": 34,
   "metadata": {},
   "outputs": [],
   "source": [
    "compression_opts = dict(method='zip', archive_name='out.csv') \n",
    "dataframe.to_csv('out.zip', index=True, compression=compression_opts) "
   ]
  },
  {
   "cell_type": "code",
   "execution_count": 16,
   "metadata": {},
   "outputs": [
    {
     "name": "stdout",
     "output_type": "stream",
     "text": [
      "1    b'obligatory this happened last thursday. \\n\\n...\n",
      "Name: documents, dtype: object\n"
     ]
    }
   ],
   "source": [
    "dataframe[1:2].documents"
   ]
  },
  {
   "cell_type": "code",
   "execution_count": 18,
   "metadata": {},
   "outputs": [
    {
     "name": "stdout",
     "output_type": "stream",
     "text": [
      "dict_keys(['title_tokenized', 'permalink', 'title', 'url', 'num_comments', 'tldr', 'created_utc', 'trimmed_title_tokenized', 'id', 'selftext_html', 'score', 'upvote_ratio', 'tldr_tokenized', 'selftext', 'trimmed_title', 'selftext_without_tldr_tokenized', 'ups', 'selftext_without_tldr'])\n"
     ]
    }
   ],
   "source": [
    "import json\n",
    "\n",
    "# Read entire file\n",
    "posts = []\n",
    "with open('tifu_all_tokenized_and_filtered.json', 'r') as fp:\n",
    "    for line in fp:\n",
    "        posts.append(json.loads(line))\n",
    "\n",
    "# Json entries\n",
    "print(posts[50000].keys())\n",
    "# [u'title_tokenized',\n",
    "#  u'permalink',\n",
    "#  u'title',\n",
    "#  u'url',\n",
    "#  u'num_comments',\n",
    "#  u'tldr',  # (optional)\n",
    "#  u'created_utc',\n",
    "#  u'trimmed_title_tokenized',\n",
    "#  u'ups',\n",
    "#  u'selftext_html',\n",
    "#  u'score',\n",
    "#  u'upvote_ratio',\n",
    "#  u'tldr_tokenized',  # (optional)\n",
    "#  u'selftext',\n",
    "#  u'trimmed_title',\n",
    "#  u'selftext_without_tldr_tokenized',\n",
    "#  u'id',\n",
    "#  u'selftext_without_tldr']"
   ]
  },
  {
   "cell_type": "code",
   "execution_count": 21,
   "metadata": {},
   "outputs": [
    {
     "data": {
      "text/plain": [
       "dict"
      ]
     },
     "execution_count": 21,
     "metadata": {},
     "output_type": "execute_result"
    }
   ],
   "source": [
    "type(posts[1])"
   ]
  },
  {
   "cell_type": "code",
   "execution_count": 24,
   "metadata": {},
   "outputs": [],
   "source": [
    "df = pd.DataFrame(posts)"
   ]
  },
  {
   "cell_type": "code",
   "execution_count": 31,
   "metadata": {},
   "outputs": [
    {
     "data": {
      "text/html": [
       "<div>\n",
       "<style scoped>\n",
       "    .dataframe tbody tr th:only-of-type {\n",
       "        vertical-align: middle;\n",
       "    }\n",
       "\n",
       "    .dataframe tbody tr th {\n",
       "        vertical-align: top;\n",
       "    }\n",
       "\n",
       "    .dataframe thead th {\n",
       "        text-align: right;\n",
       "    }\n",
       "</style>\n",
       "<table border=\"1\" class=\"dataframe\">\n",
       "  <thead>\n",
       "    <tr style=\"text-align: right;\">\n",
       "      <th></th>\n",
       "      <th>title_tokenized</th>\n",
       "      <th>permalink</th>\n",
       "      <th>title</th>\n",
       "      <th>url</th>\n",
       "      <th>num_comments</th>\n",
       "      <th>tldr</th>\n",
       "      <th>created_utc</th>\n",
       "      <th>trimmed_title_tokenized</th>\n",
       "      <th>id</th>\n",
       "      <th>selftext_html</th>\n",
       "      <th>score</th>\n",
       "      <th>upvote_ratio</th>\n",
       "      <th>selftext</th>\n",
       "      <th>trimmed_title</th>\n",
       "      <th>selftext_without_tldr_tokenized</th>\n",
       "      <th>ups</th>\n",
       "      <th>selftext_without_tldr</th>\n",
       "      <th>tldr_tokenized</th>\n",
       "    </tr>\n",
       "  </thead>\n",
       "  <tbody>\n",
       "    <tr>\n",
       "      <th>0</th>\n",
       "      <td>[tifu, by, forgetting, to, pull, my, underwear...</td>\n",
       "      <td>/r/tifu/comments/1ghd5r/tifu_by_forgetting_to_...</td>\n",
       "      <td>TIFU by forgetting to pull my underwear down b...</td>\n",
       "      <td>https://www.reddit.com/r/tifu/comments/1ghd5r/...</td>\n",
       "      <td>13</td>\n",
       "      <td>None</td>\n",
       "      <td>1.371426e+09</td>\n",
       "      <td>[forgetting, to, pull, my, underwear, down, be...</td>\n",
       "      <td>1ghd5r</td>\n",
       "      <td>&lt;!-- SC_OFF --&gt;&lt;div class=\"md\"&gt;&lt;p&gt;I was on Sky...</td>\n",
       "      <td>50</td>\n",
       "      <td>0.77</td>\n",
       "      <td>I was on Skype on my tablet as I went to the t...</td>\n",
       "      <td>forgetting to pull my underwear down before i ...</td>\n",
       "      <td>[i, was, on, skype, on, my, tablet, as, i, wen...</td>\n",
       "      <td>50</td>\n",
       "      <td>i was on skype on my tablet as i went to the t...</td>\n",
       "      <td>NaN</td>\n",
       "    </tr>\n",
       "    <tr>\n",
       "      <th>1</th>\n",
       "      <td>[tifu, by, gender, stereotyping]</td>\n",
       "      <td>/r/tifu/comments/1ggydk/tifu_by_genderstereoty...</td>\n",
       "      <td>TIFU by gender-stereotyping</td>\n",
       "      <td>https://www.reddit.com/r/tifu/comments/1ggydk/...</td>\n",
       "      <td>23</td>\n",
       "      <td>confuse a 5th grade girl for a boy in front o...</td>\n",
       "      <td>1.371412e+09</td>\n",
       "      <td>[gender, stereotyping]</td>\n",
       "      <td>1ggydk</td>\n",
       "      <td>&lt;!-- SC_OFF --&gt;&lt;div class=\"md\"&gt;&lt;p&gt;This actuall...</td>\n",
       "      <td>115</td>\n",
       "      <td>0.88</td>\n",
       "      <td>This actually happened a couple of years ago. ...</td>\n",
       "      <td>gender-stereotyping</td>\n",
       "      <td>[this, actually, happened, a, couple, of, year...</td>\n",
       "      <td>115</td>\n",
       "      <td>this actually happened a couple of years ago. ...</td>\n",
       "      <td>[confuse, a, 0th, grade, girl, for, a, boy, in...</td>\n",
       "    </tr>\n",
       "  </tbody>\n",
       "</table>\n",
       "</div>"
      ],
      "text/plain": [
       "                                     title_tokenized  \\\n",
       "0  [tifu, by, forgetting, to, pull, my, underwear...   \n",
       "1                   [tifu, by, gender, stereotyping]   \n",
       "\n",
       "                                           permalink  \\\n",
       "0  /r/tifu/comments/1ghd5r/tifu_by_forgetting_to_...   \n",
       "1  /r/tifu/comments/1ggydk/tifu_by_genderstereoty...   \n",
       "\n",
       "                                               title  \\\n",
       "0  TIFU by forgetting to pull my underwear down b...   \n",
       "1                        TIFU by gender-stereotyping   \n",
       "\n",
       "                                                 url  num_comments  \\\n",
       "0  https://www.reddit.com/r/tifu/comments/1ghd5r/...            13   \n",
       "1  https://www.reddit.com/r/tifu/comments/1ggydk/...            23   \n",
       "\n",
       "                                                tldr   created_utc  \\\n",
       "0                                               None  1.371426e+09   \n",
       "1   confuse a 5th grade girl for a boy in front o...  1.371412e+09   \n",
       "\n",
       "                             trimmed_title_tokenized      id  \\\n",
       "0  [forgetting, to, pull, my, underwear, down, be...  1ghd5r   \n",
       "1                             [gender, stereotyping]  1ggydk   \n",
       "\n",
       "                                       selftext_html  score  upvote_ratio  \\\n",
       "0  <!-- SC_OFF --><div class=\"md\"><p>I was on Sky...     50          0.77   \n",
       "1  <!-- SC_OFF --><div class=\"md\"><p>This actuall...    115          0.88   \n",
       "\n",
       "                                            selftext  \\\n",
       "0  I was on Skype on my tablet as I went to the t...   \n",
       "1  This actually happened a couple of years ago. ...   \n",
       "\n",
       "                                       trimmed_title  \\\n",
       "0  forgetting to pull my underwear down before i ...   \n",
       "1                                gender-stereotyping   \n",
       "\n",
       "                     selftext_without_tldr_tokenized  ups  \\\n",
       "0  [i, was, on, skype, on, my, tablet, as, i, wen...   50   \n",
       "1  [this, actually, happened, a, couple, of, year...  115   \n",
       "\n",
       "                               selftext_without_tldr  \\\n",
       "0  i was on skype on my tablet as i went to the t...   \n",
       "1  this actually happened a couple of years ago. ...   \n",
       "\n",
       "                                      tldr_tokenized  \n",
       "0                                                NaN  \n",
       "1  [confuse, a, 0th, grade, girl, for, a, boy, in...  "
      ]
     },
     "execution_count": 31,
     "metadata": {},
     "output_type": "execute_result"
    }
   ],
   "source": [
    "df.head(2)"
   ]
  },
  {
   "cell_type": "code",
   "execution_count": 29,
   "metadata": {},
   "outputs": [
    {
     "data": {
      "text/plain": [
       "36965"
      ]
     },
     "execution_count": 29,
     "metadata": {},
     "output_type": "execute_result"
    }
   ],
   "source": [
    "df['tldr'].isna().sum()"
   ]
  },
  {
   "cell_type": "code",
   "execution_count": null,
   "metadata": {},
   "outputs": [],
   "source": []
  }
 ],
 "metadata": {
  "kernelspec": {
   "display_name": "Python 3",
   "language": "python",
   "name": "python3"
  },
  "language_info": {
   "codemirror_mode": {
    "name": "ipython",
    "version": 3
   },
   "file_extension": ".py",
   "mimetype": "text/x-python",
   "name": "python",
   "nbconvert_exporter": "python",
   "pygments_lexer": "ipython3",
   "version": "3.8.3"
  }
 },
 "nbformat": 4,
 "nbformat_minor": 4
}
