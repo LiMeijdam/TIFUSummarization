{
 "cells": [
  {
   "cell_type": "code",
   "execution_count": 1,
   "metadata": {},
   "outputs": [],
   "source": [
    "# Import libraries\n",
    "\n",
    "import pandas as pd\n",
    "import numpy as np\n",
    "from rouge import Rouge"
   ]
  },
  {
   "cell_type": "code",
   "execution_count": 2,
   "metadata": {},
   "outputs": [],
   "source": [
    "# Read in the dataset\n",
    "\n",
    "tifu_dataset = pd.read_csv(\"TextRankOutput_clean/TextRankOutput_clean.csv\",index_col=\"Unnamed: 0\")"
   ]
  },
  {
   "cell_type": "code",
   "execution_count": 3,
   "metadata": {},
   "outputs": [
    {
     "data": {
      "text/html": [
       "<div>\n",
       "<style scoped>\n",
       "    .dataframe tbody tr th:only-of-type {\n",
       "        vertical-align: middle;\n",
       "    }\n",
       "\n",
       "    .dataframe tbody tr th {\n",
       "        vertical-align: top;\n",
       "    }\n",
       "\n",
       "    .dataframe thead th {\n",
       "        text-align: right;\n",
       "    }\n",
       "</style>\n",
       "<table border=\"1\" class=\"dataframe\">\n",
       "  <thead>\n",
       "    <tr style=\"text-align: right;\">\n",
       "      <th></th>\n",
       "      <th>documents</th>\n",
       "      <th>num_comments</th>\n",
       "      <th>score</th>\n",
       "      <th>title</th>\n",
       "      <th>tldr</th>\n",
       "      <th>ups</th>\n",
       "      <th>upvote_ratio</th>\n",
       "      <th>LCS</th>\n",
       "      <th>COSINE</th>\n",
       "      <th>TFIDF</th>\n",
       "    </tr>\n",
       "  </thead>\n",
       "  <tbody>\n",
       "    <tr>\n",
       "      <th>0</th>\n",
       "      <td>me and a friend decided to go to the beach las...</td>\n",
       "      <td>1</td>\n",
       "      <td>8</td>\n",
       "      <td>liking seafood</td>\n",
       "      <td>had delicious seafood. almost flooded a toilet...</td>\n",
       "      <td>8</td>\n",
       "      <td>0.76</td>\n",
       "      <td>me and a friend decided to go to the beach las...</td>\n",
       "      <td>me and a friend decided to go to the beach las...</td>\n",
       "      <td>me and a friend decided to go to the beach las...</td>\n",
       "    </tr>\n",
       "    <tr>\n",
       "      <th>1</th>\n",
       "      <td>obligatory this happened last thursday. i was ...</td>\n",
       "      <td>4</td>\n",
       "      <td>0</td>\n",
       "      <td>joking about being a whore</td>\n",
       "      <td>made a joke about being a whore in class. made...</td>\n",
       "      <td>0</td>\n",
       "      <td>0.50</td>\n",
       "      <td>we wound up getting on the topic of how i joki...</td>\n",
       "      <td>we wound up getting on the topic of how i joki...</td>\n",
       "      <td>now, one of my best friend 's sister, we 'll c...</td>\n",
       "    </tr>\n",
       "    <tr>\n",
       "      <th>2</th>\n",
       "      <td>this was actually a few years ago obligatory d...</td>\n",
       "      <td>24</td>\n",
       "      <td>25</td>\n",
       "      <td>burning my finger with molten starburst</td>\n",
       "      <td>i burned my finger with a microwaved starburst...</td>\n",
       "      <td>25</td>\n",
       "      <td>0.81</td>\n",
       "      <td>this was actually a few years ago obligatory d...</td>\n",
       "      <td>i put the rest in the fridge and ate it about ...</td>\n",
       "      <td>this was actually a few years ago obligatory d...</td>\n",
       "    </tr>\n",
       "    <tr>\n",
       "      <th>3</th>\n",
       "      <td>this is my first post on reddit, so i m sorry ...</td>\n",
       "      <td>23</td>\n",
       "      <td>152</td>\n",
       "      <td>skipping my heart meds. nsfw</td>\n",
       "      <td>a girl tried to give me a banana, smashed a di...</td>\n",
       "      <td>152</td>\n",
       "      <td>0.90</td>\n",
       "      <td>one of them sat on top of a desk right ahead o...</td>\n",
       "      <td>one of them sat on top of a desk right ahead o...</td>\n",
       "      <td>i just started in a new school last week, and...</td>\n",
       "    </tr>\n",
       "    <tr>\n",
       "      <th>4</th>\n",
       "      <td>unlike most tifu this actually just happened. ...</td>\n",
       "      <td>10</td>\n",
       "      <td>21</td>\n",
       "      <td>overcoming my fears</td>\n",
       "      <td>noticed a spider above my bed,decided to overc...</td>\n",
       "      <td>21</td>\n",
       "      <td>0.84</td>\n",
       "      <td>apparently he enjoys the decembrists and starb...</td>\n",
       "      <td>either i knocked something into my ceiling or....</td>\n",
       "      <td>apparently he enjoys the decembrists and starb...</td>\n",
       "    </tr>\n",
       "  </tbody>\n",
       "</table>\n",
       "</div>"
      ],
      "text/plain": [
       "                                           documents  num_comments  score  \\\n",
       "0  me and a friend decided to go to the beach las...             1      8   \n",
       "1  obligatory this happened last thursday. i was ...             4      0   \n",
       "2  this was actually a few years ago obligatory d...            24     25   \n",
       "3  this is my first post on reddit, so i m sorry ...            23    152   \n",
       "4  unlike most tifu this actually just happened. ...            10     21   \n",
       "\n",
       "                                      title  \\\n",
       "0                           liking seafood    \n",
       "1               joking about being a whore    \n",
       "2  burning my finger with molten starburst    \n",
       "3             skipping my heart meds. nsfw    \n",
       "4                      overcoming my fears    \n",
       "\n",
       "                                                tldr  ups  upvote_ratio  \\\n",
       "0  had delicious seafood. almost flooded a toilet...    8          0.76   \n",
       "1  made a joke about being a whore in class. made...    0          0.50   \n",
       "2  i burned my finger with a microwaved starburst...   25          0.81   \n",
       "3  a girl tried to give me a banana, smashed a di...  152          0.90   \n",
       "4  noticed a spider above my bed,decided to overc...   21          0.84   \n",
       "\n",
       "                                                 LCS  \\\n",
       "0  me and a friend decided to go to the beach las...   \n",
       "1  we wound up getting on the topic of how i joki...   \n",
       "2  this was actually a few years ago obligatory d...   \n",
       "3  one of them sat on top of a desk right ahead o...   \n",
       "4  apparently he enjoys the decembrists and starb...   \n",
       "\n",
       "                                              COSINE  \\\n",
       "0  me and a friend decided to go to the beach las...   \n",
       "1  we wound up getting on the topic of how i joki...   \n",
       "2  i put the rest in the fridge and ate it about ...   \n",
       "3  one of them sat on top of a desk right ahead o...   \n",
       "4  either i knocked something into my ceiling or....   \n",
       "\n",
       "                                               TFIDF  \n",
       "0  me and a friend decided to go to the beach las...  \n",
       "1  now, one of my best friend 's sister, we 'll c...  \n",
       "2  this was actually a few years ago obligatory d...  \n",
       "3   i just started in a new school last week, and...  \n",
       "4  apparently he enjoys the decembrists and starb...  "
      ]
     },
     "execution_count": 3,
     "metadata": {},
     "output_type": "execute_result"
    }
   ],
   "source": [
    "# Inspect data\n",
    "\n",
    "tifu_dataset.head()"
   ]
  },
  {
   "cell_type": "code",
   "execution_count": 4,
   "metadata": {},
   "outputs": [
    {
     "data": {
      "text/plain": [
       "{'rouge-1': {'r': 0.37028421174054843,\n",
       "  'p': 0.11276337578272772,\n",
       "  'f': 0.15999700077483217},\n",
       " 'rouge-2': {'r': 0.07569133331434026,\n",
       "  'p': 0.01901271234458752,\n",
       "  'f': 0.027499921808863178},\n",
       " 'rouge-l': {'r': 0.31899426401543,\n",
       "  'p': 0.0946670393671998,\n",
       "  'f': 0.1350837712643988}}"
      ]
     },
     "execution_count": 4,
     "metadata": {},
     "output_type": "execute_result"
    }
   ],
   "source": [
    "# Calculate all ROUGE metrics (full dataset)\n",
    "\n",
    "reference_list = tifu_dataset['tldr'].tolist()\n",
    "summary_list_LCS = tifu_dataset['LCS'].tolist()\n",
    "\n",
    "rouge = Rouge()\n",
    "\n",
    "rouge.get_scores(summary_list_LCS, reference_list,avg=True)"
   ]
  },
  {
   "cell_type": "code",
   "execution_count": 5,
   "metadata": {},
   "outputs": [
    {
     "data": {
      "text/plain": [
       "{'rouge-1': {'r': 0.35627658355846886,\n",
       "  'p': 0.10760504051472743,\n",
       "  'f': 0.15347708114801642},\n",
       " 'rouge-2': {'r': 0.06645588955921253,\n",
       "  'p': 0.016563113969294548,\n",
       "  'f': 0.02412435258345723},\n",
       " 'rouge-l': {'r': 0.30610423873169457,\n",
       "  'p': 0.09011603337753817,\n",
       "  'f': 0.12924837998551622}}"
      ]
     },
     "execution_count": 5,
     "metadata": {},
     "output_type": "execute_result"
    }
   ],
   "source": [
    "# Calculate all ROUGE metrics (full dataset)\n",
    "\n",
    "summary_list_COSINE = tifu_dataset['COSINE'].tolist()\n",
    "\n",
    "rouge.get_scores(summary_list_COSINE, reference_list,avg=True)"
   ]
  },
  {
   "cell_type": "code",
   "execution_count": 6,
   "metadata": {},
   "outputs": [
    {
     "data": {
      "text/plain": [
       "{'rouge-1': {'r': 0.34046297445936596,\n",
       "  'p': 0.12636713237446767,\n",
       "  'f': 0.16897312355057473},\n",
       " 'rouge-2': {'r': 0.0684630544246759,\n",
       "  'p': 0.021250544846638124,\n",
       "  'f': 0.028945136002994407},\n",
       " 'rouge-l': {'r': 0.2926136785206307,\n",
       "  'p': 0.10619970634051895,\n",
       "  'f': 0.14272702504891288}}"
      ]
     },
     "execution_count": 6,
     "metadata": {},
     "output_type": "execute_result"
    }
   ],
   "source": [
    "# Calculate all ROUGE metrics (full dataset)\n",
    "\n",
    "summary_list_TFIDF = tifu_dataset['TFIDF'].tolist()\n",
    "\n",
    "rouge.get_scores(summary_list_TFIDF, reference_list,avg=True)"
   ]
  }
 ],
 "metadata": {
  "kernelspec": {
   "display_name": "Python 3",
   "language": "python",
   "name": "python3"
  },
  "language_info": {
   "codemirror_mode": {
    "name": "ipython",
    "version": 3
   },
   "file_extension": ".py",
   "mimetype": "text/x-python",
   "name": "python",
   "nbconvert_exporter": "python",
   "pygments_lexer": "ipython3",
   "version": "3.7.6"
  }
 },
 "nbformat": 4,
 "nbformat_minor": 4
}
